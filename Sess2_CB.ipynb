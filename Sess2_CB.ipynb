{
  "cells": [
    {
      "cell_type": "code",
      "execution_count": null,
      "metadata": {
        "colab": {
          "base_uri": "https://localhost:8080/"
        },
        "id": "N5jGcNDWySCf",
        "outputId": "55cd5c7f-696f-4e48-e1b3-ef88627da241"
      },
      "outputs": [
        {
          "output_type": "stream",
          "name": "stdout",
          "text": [
            "Looking in indexes: https://pypi.org/simple, https://us-python.pkg.dev/colab-wheels/public/simple/\n",
            "Collecting biopython\n",
            "  Downloading biopython-1.81-cp310-cp310-manylinux_2_17_x86_64.manylinux2014_x86_64.whl (3.1 MB)\n",
            "\u001b[2K     \u001b[90m━━━━━━━━━━━━━━━━━━━━━━━━━━━━━━━━━━━━━━━━\u001b[0m \u001b[32m3.1/3.1 MB\u001b[0m \u001b[31m31.7 MB/s\u001b[0m eta \u001b[36m0:00:00\u001b[0m\n",
            "\u001b[?25hRequirement already satisfied: numpy in /usr/local/lib/python3.10/dist-packages (from biopython) (1.22.4)\n",
            "Installing collected packages: biopython\n",
            "Successfully installed biopython-1.81\n"
          ]
        }
      ],
      "source": [
        "# Prerequisites\n",
        "# TODO: install all required modules\n",
        "# tips:\n",
        "# 1. Used Imports\n",
        "# Bio.Seq\n",
        "# Bio.SeqUtils -> resource biopython documentation\n",
        "# 2. Forgot import? use CTRL + Space\n",
        "!pip install biopython"
      ]
    },
    {
      "cell_type": "code",
      "execution_count": null,
      "metadata": {
        "colab": {
          "base_uri": "https://localhost:8080/"
        },
        "id": "3ZI-dHc1ztjl",
        "outputId": "ba7645f2-5018-42e0-d639-78c1ec299fe5"
      },
      "outputs": [
        {
          "output_type": "stream",
          "name": "stdout",
          "text": [
            "CGCGATCGTAGC\n",
            "12\n"
          ]
        }
      ],
      "source": [
        "# TODO: Create Sequence (C, G, A, or T) -> pasangan A-T G-C\n",
        "from Bio.Seq import Seq\n",
        "\n",
        "seq1 = Seq(\"CGCGATCGTAGC\")\n",
        "print(seq1)\n",
        "print(len(seq1))"
      ]
    },
    {
      "cell_type": "code",
      "execution_count": null,
      "metadata": {
        "colab": {
          "base_uri": "https://localhost:8080/"
        },
        "id": "qWcmmFY80UqS",
        "outputId": "af052d9c-578c-40e4-e37c-1f319aca36f6"
      },
      "outputs": [
        {
          "output_type": "stream",
          "name": "stdout",
          "text": [
            "66.66666666666667\n",
            "66.66666666666666\n"
          ]
        }
      ],
      "source": [
        "# TODO #1: GC Content\n",
        "# ----- NOTE -----\n",
        "# GC & At ada satu sifat yang terkandung di Melting point\n",
        "# GC lebih banyak -> DNA lebih stabil : Titik leleh lebih tinggi\n",
        "# cari kandungan GC di dalam 1 sequence DNA, perlu mneghiutng ada brp banyak C dan G\n",
        "# Ada funtion khusus untu hitung GC tapi di AT ga ada\n",
        "\n",
        "\n",
        "# Cara #1: cara nguli (bikin function sendiri)\n",
        "def get_gc(input):\n",
        "  #Hitung jumlah komponen G + jumlah komponen C dibagi dengan total jumlah komponen keseluruhan\n",
        "  output = 100 * (input.count(\"G\") + input.count(\"C\"))/len(input)\n",
        "  return output\n",
        "\n",
        "seq1_gc = get_gc(seq1)\n",
        "print(seq1_gc)\n",
        "\n",
        "# ----- NOTE ----\n",
        "# Menggunakan function GC pada Bio.SeqUtils.GC, sama saja dengan cara di atas namun lebih simple mneggunakna function\n",
        "# Tp terdapat warning -> BiopythonDeprecationWarning: GC is deprecated sehingga jika Biopython ada update ada kemungkinan function GC hilang, sehingga tidak bisa dipakai (pakai GC aja)\n",
        "# solusi -> gunakan gc_fraction\n",
        "# dikali 100 karena dia fraction supaya hasilnya sama maka dikali 100 saja)\n",
        "\n",
        "# Cara #2: Pakai function dari Bio.SeqUtils\n",
        "from Bio.SeqUtils import gc_fraction\n",
        "seq1_gc2 = gc_fraction(seq1) * 100\n",
        "print(seq1_gc2)"
      ]
    },
    {
      "cell_type": "code",
      "execution_count": null,
      "metadata": {
        "colab": {
          "base_uri": "https://localhost:8080/"
        },
        "id": "TuWtFdGI6Erq",
        "outputId": "e8b88e1a-8bfa-4722-b2b0-4a24517bd1f9"
      },
      "outputs": [
        {
          "output_type": "stream",
          "name": "stdout",
          "text": [
            "33.333333333333336\n"
          ]
        }
      ],
      "source": [
        "# TODO #2: AT Content\n",
        "# ----- NOTE -----\n",
        "# Kebalikan dari GC\n",
        "# AT lebih banyak -> DNA lebih tidak stabil : Titik leleh lebih rendah\n",
        "\n",
        "def at_content(input):\n",
        "  at = [temp for temp in input if temp in \"AT\"]\n",
        "  #print(at)\n",
        "  output = 100 * len(at) / len(input)\n",
        "  return output\n",
        "\n",
        "seq1_at = at_content(seq1)\n",
        "print(seq1_at)\n",
        "\n"
      ]
    },
    {
      "cell_type": "code",
      "source": [
        "from Bio.SeqUtils import GC\n",
        "gc = GC(seq1)\n",
        "print(gc)\n",
        "\n",
        "at = 100 - gc\n",
        "print(at)"
      ],
      "metadata": {
        "colab": {
          "base_uri": "https://localhost:8080/"
        },
        "id": "qrFrU8iEcyq1",
        "outputId": "e0593743-b8d1-4bb0-aae2-4a6e23d25389"
      },
      "execution_count": null,
      "outputs": [
        {
          "output_type": "stream",
          "name": "stdout",
          "text": [
            "66.66666666666667\n",
            "33.33333333333333\n"
          ]
        },
        {
          "output_type": "stream",
          "name": "stderr",
          "text": [
            "/usr/local/lib/python3.10/dist-packages/Bio/SeqUtils/__init__.py:144: BiopythonDeprecationWarning: GC is deprecated; please use gc_fraction instead.\n",
            "  warnings.warn(\n"
          ]
        }
      ]
    },
    {
      "cell_type": "code",
      "execution_count": null,
      "metadata": {
        "colab": {
          "base_uri": "https://localhost:8080/"
        },
        "id": "4cwCJLy98WNr",
        "outputId": "bfc921a3-64f9-4254-896e-ba7443d52e4b"
      },
      "outputs": [
        {
          "output_type": "stream",
          "name": "stdout",
          "text": [
            "40.0\n",
            "37.236235405311234\n",
            "39.80290666838681\n"
          ]
        }
      ],
      "source": [
        "# TODO: Melting Point\n",
        "# Pakai function Melting temp (Tm_Wallace, Tm_GC, Tm_NN)\n",
        "\n",
        "\n",
        "# 1. Tm_Wallace (Rule of Thumb)\n",
        "# explain the manual formula\n",
        "  # rumus manual\n",
        "  # Tm = (wA + xT)*2 + (yG + zC)*4 -> 2*AT + GC*4\n",
        "  # (wA + xT) -> kandungan AT\n",
        "  # (yG + zC) -> Kandungan GC\n",
        "from Bio.SeqUtils import MeltingTemp as mt\n",
        "\n",
        "seq1_wallace = mt.Tm_Wallace(seq1)\n",
        "print(seq1_wallace)\n",
        "\n",
        "# 2. Tm_GC\n",
        "seq1_tm_gc = mt.Tm_GC(seq1)\n",
        "print(seq1_tm_gc) #lbh akurat karna bisa terima banyak parameter\n",
        "\n",
        "\n",
        "# 3. Tm_NN\n",
        "seq1_nn = mt.Tm_NN(seq1)\n",
        "print(seq1_nn)\n",
        "# untuk check kalau lupa -> mt."
      ]
    },
    {
      "cell_type": "code",
      "execution_count": null,
      "metadata": {
        "colab": {
          "base_uri": "https://localhost:8080/"
        },
        "id": "D5A8BSIbBWmf",
        "outputId": "0c11c9b0-faf7-4c4e-fb10-becffefb5b45"
      },
      "outputs": [
        {
          "output_type": "stream",
          "name": "stdout",
          "text": [
            "3726.3655\n"
          ]
        }
      ],
      "source": [
        "# TODO: Molecular Weight\n",
        "from Bio.SeqUtils import molecular_weight\n",
        "wt = molecular_weight(seq1)\n",
        "print(wt)"
      ]
    },
    {
      "cell_type": "code",
      "source": [],
      "metadata": {
        "id": "mcn9PsdsphR2"
      },
      "execution_count": null,
      "outputs": []
    }
  ],
  "metadata": {
    "colab": {
      "provenance": []
    },
    "kernelspec": {
      "display_name": "Python 3",
      "name": "python3"
    },
    "language_info": {
      "name": "python"
    }
  },
  "nbformat": 4,
  "nbformat_minor": 0
}