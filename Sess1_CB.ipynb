{
  "nbformat": 4,
  "nbformat_minor": 0,
  "metadata": {
    "colab": {
      "provenance": []
    },
    "kernelspec": {
      "name": "python3",
      "display_name": "Python 3"
    },
    "language_info": {
      "name": "python"
    }
  },
  "cells": [
    {
      "cell_type": "code",
      "execution_count": null,
      "metadata": {
        "colab": {
          "base_uri": "https://localhost:8080/"
        },
        "id": "FKb1IqT4ZPUF",
        "outputId": "e4404563-c286-46f0-9157-a3d3e8aa72aa"
      },
      "outputs": [
        {
          "output_type": "stream",
          "name": "stdout",
          "text": [
            "Looking in indexes: https://pypi.org/simple, https://us-python.pkg.dev/colab-wheels/public/simple/\n",
            "Collecting BioPython\n",
            "  Downloading biopython-1.81-cp38-cp38-manylinux_2_17_x86_64.manylinux2014_x86_64.whl (3.1 MB)\n",
            "\u001b[2K     \u001b[90m━━━━━━━━━━━━━━━━━━━━━━━━━━━━━━━━━━━━━━━━\u001b[0m \u001b[32m3.1/3.1 MB\u001b[0m \u001b[31m29.2 MB/s\u001b[0m eta \u001b[36m0:00:00\u001b[0m\n",
            "\u001b[?25hRequirement already satisfied: numpy in /usr/local/lib/python3.8/dist-packages (from BioPython) (1.21.6)\n",
            "Installing collected packages: BioPython\n",
            "Successfully installed BioPython-1.81\n"
          ]
        }
      ],
      "source": [
        "!pip install BioPython"
      ]
    },
    {
      "cell_type": "code",
      "source": [
        "import Bio"
      ],
      "metadata": {
        "id": "x5P7IT3Aaww8"
      },
      "execution_count": null,
      "outputs": []
    },
    {
      "cell_type": "code",
      "source": [
        "from Bio.Seq import Seq"
      ],
      "metadata": {
        "id": "XBo9KaESa0KJ"
      },
      "execution_count": null,
      "outputs": []
    },
    {
      "cell_type": "code",
      "source": [
        "#Method atau function yang ada\n",
        "dir(Seq)"
      ],
      "metadata": {
        "colab": {
          "base_uri": "https://localhost:8080/"
        },
        "id": "E5jq3-5qa-NC",
        "outputId": "ff822880-494b-436e-9f19-e970567e7ccc"
      },
      "execution_count": null,
      "outputs": [
        {
          "output_type": "execute_result",
          "data": {
            "text/plain": [
              "['__abstractmethods__',\n",
              " '__add__',\n",
              " '__array_ufunc__',\n",
              " '__bytes__',\n",
              " '__class__',\n",
              " '__contains__',\n",
              " '__delattr__',\n",
              " '__dict__',\n",
              " '__dir__',\n",
              " '__doc__',\n",
              " '__eq__',\n",
              " '__format__',\n",
              " '__ge__',\n",
              " '__getattribute__',\n",
              " '__getitem__',\n",
              " '__gt__',\n",
              " '__hash__',\n",
              " '__imul__',\n",
              " '__init__',\n",
              " '__init_subclass__',\n",
              " '__iter__',\n",
              " '__le__',\n",
              " '__len__',\n",
              " '__lt__',\n",
              " '__module__',\n",
              " '__mul__',\n",
              " '__ne__',\n",
              " '__new__',\n",
              " '__radd__',\n",
              " '__reduce__',\n",
              " '__reduce_ex__',\n",
              " '__repr__',\n",
              " '__rmul__',\n",
              " '__setattr__',\n",
              " '__sizeof__',\n",
              " '__slots__',\n",
              " '__str__',\n",
              " '__subclasshook__',\n",
              " '__weakref__',\n",
              " '_abc_impl',\n",
              " '_data',\n",
              " 'back_transcribe',\n",
              " 'complement',\n",
              " 'complement_rna',\n",
              " 'count',\n",
              " 'count_overlap',\n",
              " 'defined',\n",
              " 'defined_ranges',\n",
              " 'endswith',\n",
              " 'find',\n",
              " 'index',\n",
              " 'islower',\n",
              " 'isupper',\n",
              " 'join',\n",
              " 'lower',\n",
              " 'lstrip',\n",
              " 'replace',\n",
              " 'reverse_complement',\n",
              " 'reverse_complement_rna',\n",
              " 'rfind',\n",
              " 'rindex',\n",
              " 'rsplit',\n",
              " 'rstrip',\n",
              " 'split',\n",
              " 'startswith',\n",
              " 'strip',\n",
              " 'transcribe',\n",
              " 'translate',\n",
              " 'ungap',\n",
              " 'upper']"
            ]
          },
          "metadata": {},
          "execution_count": 6
        }
      ]
    },
    {
      "cell_type": "code",
      "source": [
        "#Declare Variable\n",
        "\n",
        "DNA = Seq(\"CGACTGGCGTCTGCT\")\n",
        "print(DNA)\n",
        "\n",
        "#Dlaam RNA tidak punya Timin\n",
        "RNA = Seq(\"CGACUGGCGUCUGCU\")\n",
        "print(RNA)\n",
        "\n",
        "Protein = Seq(\"MIS\")\n",
        "print(Protein)"
      ],
      "metadata": {
        "colab": {
          "base_uri": "https://localhost:8080/"
        },
        "id": "NTJloQpRbIQP",
        "outputId": "ca4b61fc-8545-4a38-e840-6af6860b52e9"
      },
      "execution_count": null,
      "outputs": [
        {
          "output_type": "stream",
          "name": "stdout",
          "text": [
            "CGACTGGCGTCTGCT\n",
            "CGACUGGCGUCUGCU\n",
            "MIS\n"
          ]
        }
      ]
    },
    {
      "cell_type": "code",
      "source": [
        "#Ngitung panjang sequence\n",
        "len(DNA)"
      ],
      "metadata": {
        "colab": {
          "base_uri": "https://localhost:8080/"
        },
        "id": "VHTTo6z5cCjl",
        "outputId": "0c71ce4c-60ca-4c29-9f99-56ed646c40cb"
      },
      "execution_count": null,
      "outputs": [
        {
          "output_type": "execute_result",
          "data": {
            "text/plain": [
              "15"
            ]
          },
          "metadata": {},
          "execution_count": 11
        }
      ]
    },
    {
      "cell_type": "code",
      "source": [
        "#Slicing\n",
        "#nama variable[awal, akhir, lompatan]\n",
        "\n",
        "print(DNA)\n",
        "#print semua dari 0-akhir\n",
        "print(DNA[:])\n",
        "#print dari 0-6 (index)\n",
        "print(DNA[:6])\n",
        "#print dari 9-akhir (index)\n",
        "print(DNA[9:])\n",
        "#reverse\n",
        "print(DNA[::-1])\n",
        "#lompatan = 2\n",
        "print(DNA[::2])\n",
        "#index 6-11\n",
        "print(DNA[6:12])"
      ],
      "metadata": {
        "colab": {
          "base_uri": "https://localhost:8080/"
        },
        "id": "ySKdMAMBcxYI",
        "outputId": "b88e5f08-41de-48d0-c5f6-67ffe3145301"
      },
      "execution_count": null,
      "outputs": [
        {
          "output_type": "stream",
          "name": "stdout",
          "text": [
            "CGACTGGCGTCTGCT\n",
            "CGACTGGCGTCTGCT\n",
            "CGACTG\n",
            "TCTGCT\n",
            "TCGTCTGCGGTCAGC\n",
            "CATGGCGT\n",
            "GCGTCT\n"
          ]
        }
      ]
    },
    {
      "cell_type": "code",
      "source": [
        "#Join Seq\n",
        "print(DNA + RNA)\n",
        "DNA1 = DNA[:6]\n",
        "DNA2 = DNA[6:12]\n",
        "print(DNA1 + DNA2)"
      ],
      "metadata": {
        "colab": {
          "base_uri": "https://localhost:8080/"
        },
        "id": "_Lp2uc7gfPH9",
        "outputId": "ec1cfb08-87f6-4e3e-f41a-ce15a90eba86"
      },
      "execution_count": null,
      "outputs": [
        {
          "output_type": "stream",
          "name": "stdout",
          "text": [
            "CGACTGGCGTCTGCTCGACUGGCGUCUGCU\n",
            "CGACTGGCGTCT\n"
          ]
        }
      ]
    },
    {
      "cell_type": "code",
      "source": [
        "#Count\n",
        "print(DNA)\n",
        "print(DNA.count(\"T\"))\n",
        "print(DNA.count(\"CTG\"))"
      ],
      "metadata": {
        "colab": {
          "base_uri": "https://localhost:8080/"
        },
        "id": "8K-KCewogLj1",
        "outputId": "9f99b894-3c40-4437-cc1e-e29ae601ad7e"
      },
      "execution_count": null,
      "outputs": [
        {
          "output_type": "stream",
          "name": "stdout",
          "text": [
            "CGACTGGCGTCTGCT\n",
            "4\n",
            "2\n"
          ]
        }
      ]
    },
    {
      "cell_type": "code",
      "source": [
        "#Find\n",
        "print(DNA)\n",
        "print(DNA.find(\"G\")) #memberikan output index G berada di index 1\n",
        "print(DNA.find(\"CTG\")) #memberikan output index dari C (karena awalan CTG adalah C) dan C berada di index 3\n",
        "print(DNA.rfind(\"G\"))\n",
        "print(DNA.rfind(\"CTG\"))\n",
        "print(DNA.index(\"G\")) #\n",
        "print(DNA.rindex(\"G\"))\n",
        "\n",
        "print(DNA.find(\"U\")) #ketika gak nemu maka return -1\n",
        "# print(DNA.index(\"U\")) #ketika ga nemu maka return error"
      ],
      "metadata": {
        "colab": {
          "base_uri": "https://localhost:8080/"
        },
        "id": "1MT0-OXwgk5B",
        "outputId": "1321bd57-e84e-4b88-e2e2-16673f79e328"
      },
      "execution_count": null,
      "outputs": [
        {
          "output_type": "stream",
          "name": "stdout",
          "text": [
            "CGACTGGCGTCTGCT\n",
            "1\n",
            "3\n",
            "12\n",
            "10\n",
            "1\n",
            "12\n",
            "-1\n"
          ]
        }
      ]
    },
    {
      "cell_type": "code",
      "source": [
        "#Main Seq dan Sub Seq\n",
        "mainSeq = DNA\n",
        "subSeq = DNA[:6]\n",
        "\n",
        "print(mainSeq)\n",
        "print(subSeq)"
      ],
      "metadata": {
        "colab": {
          "base_uri": "https://localhost:8080/"
        },
        "id": "D0ujMGX6h-DE",
        "outputId": "6a9bfbcf-f9e5-4bcb-a501-a47be74ad9f3"
      },
      "execution_count": null,
      "outputs": [
        {
          "output_type": "stream",
          "name": "stdout",
          "text": [
            "CGACTGGCGTCTGCT\n",
            "CGACTG\n"
          ]
        }
      ]
    },
    {
      "cell_type": "code",
      "source": [
        "#Search\n",
        "from Bio.SeqUtils import nt_search\n",
        "print(mainSeq)\n",
        "\n",
        "nt_search(str(mainSeq), \"CTG\")"
      ],
      "metadata": {
        "colab": {
          "base_uri": "https://localhost:8080/"
        },
        "id": "tfZpj6SwiNZx",
        "outputId": "6e1e656c-6ac4-4515-a955-445990c84031"
      },
      "execution_count": null,
      "outputs": [
        {
          "output_type": "stream",
          "name": "stdout",
          "text": [
            "CGACTGGCGTCTGCT\n"
          ]
        },
        {
          "output_type": "execute_result",
          "data": {
            "text/plain": [
              "['CTG', 3, 10]"
            ]
          },
          "metadata": {},
          "execution_count": 41
        }
      ]
    },
    {
      "cell_type": "code",
      "source": [
        "#Tujuan -> membuat diagram visualisasi, huruf apaa aja dan jumlahnya\n",
        "\n",
        "#Import matplotlib\n",
        "import matplotlib.pyplot as plt\n"
      ],
      "metadata": {
        "id": "dNXAbn8ejE2L"
      },
      "execution_count": null,
      "outputs": []
    },
    {
      "cell_type": "code",
      "source": [
        "#Import Function Counter\n",
        "from collections import Counter\n"
      ],
      "metadata": {
        "id": "kiTDZsKsjeLc"
      },
      "execution_count": null,
      "outputs": []
    },
    {
      "cell_type": "code",
      "source": [
        "#Sebelum buat diagram harus tau ada huruf apa aja dan jumlah nya berapa\n",
        "#Count Nucleotide Freq\n",
        "print(mainSeq)\n",
        "dnaFreq = Counter(mainSeq)\n",
        "print(dnaFreq.keys())\n",
        "print(dnaFreq.values())\n"
      ],
      "metadata": {
        "colab": {
          "base_uri": "https://localhost:8080/"
        },
        "id": "JzsvIGWijp7q",
        "outputId": "5a34db25-fffb-4ec0-a17d-aa85b8122fa5"
      },
      "execution_count": null,
      "outputs": [
        {
          "output_type": "stream",
          "name": "stdout",
          "text": [
            "CGACTGGCGTCTGCT\n",
            "dict_keys(['C', 'G', 'A', 'T'])\n",
            "dict_values([5, 5, 1, 4])\n"
          ]
        }
      ]
    },
    {
      "cell_type": "code",
      "source": [
        "#Bar Chart\n",
        "plt.bar(dnaFreq.keys(),dnaFreq.values())"
      ],
      "metadata": {
        "colab": {
          "base_uri": "https://localhost:8080/",
          "height": 283
        },
        "id": "UlFB1osGkJxj",
        "outputId": "ab115036-0fd7-49aa-e708-57fce80432cf"
      },
      "execution_count": null,
      "outputs": [
        {
          "output_type": "execute_result",
          "data": {
            "text/plain": [
              "<BarContainer object of 4 artists>"
            ]
          },
          "metadata": {},
          "execution_count": 49
        },
        {
          "output_type": "display_data",
          "data": {
            "text/plain": [
              "<Figure size 432x288 with 1 Axes>"
            ],
            "image/png": "[encoded data removed]"
          },
          "metadata": {
            "needs_background": "light"
          }
        }
      ]
    },
    {
      "cell_type": "code",
      "source": [
        "#AutoComplete ->  pakai CTRL + space\n",
        "print(mainSeq)\n",
        "#Kalau kumpul quiz atau tugas, di download pake .IPYNB"
      ],
      "metadata": {
        "id": "qajhEPjNlSXS"
      },
      "execution_count": null,
      "outputs": []
    }
  ]
}