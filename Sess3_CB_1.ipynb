{
  "nbformat": 4,
  "nbformat_minor": 0,
  "metadata": {
    "colab": {
      "provenance": []
    },
    "kernelspec": {
      "name": "python3",
      "display_name": "Python 3"
    },
    "language_info": {
      "name": "python"
    }
  },
  "cells": [
    {
      "cell_type": "markdown",
      "source": [
        "1. Complement\n",
        "2. Reverse Complement\n",
        "3. Transcription\n",
        "4. Back Transcribe\n",
        "5. Translation\n",
        "5. Codon table\n",
        "6. 3D model\n"
      ],
      "metadata": {
        "id": "l276-w94gmW4"
      }
    },
    {
      "cell_type": "code",
      "execution_count": null,
      "metadata": {
        "colab": {
          "base_uri": "https://localhost:8080/"
        },
        "id": "kpn1vJ4MgiLe",
        "outputId": "11599b4f-62a7-4e28-833b-5a266f3d156d"
      },
      "outputs": [
        {
          "output_type": "stream",
          "name": "stdout",
          "text": [
            "Looking in indexes: https://pypi.org/simple, https://us-python.pkg.dev/colab-wheels/public/simple/\n",
            "Requirement already satisfied: biopython in /usr/local/lib/python3.9/dist-packages (1.81)\n",
            "Requirement already satisfied: numpy in /usr/local/lib/python3.9/dist-packages (from biopython) (1.22.4)\n"
          ]
        }
      ],
      "source": [
        "!pip install biopython"
      ]
    },
    {
      "cell_type": "code",
      "source": [
        "import Bio\n",
        "from Bio.Seq import Seq"
      ],
      "metadata": {
        "id": "B0wjzBgriBTE"
      },
      "execution_count": null,
      "outputs": []
    },
    {
      "cell_type": "markdown",
      "source": [
        "Create DNA Sequence"
      ],
      "metadata": {
        "id": "Ry9IoDGhiWey"
      }
    },
    {
      "cell_type": "code",
      "source": [
        "DNA = Seq('CGATAGTTACGA')\n",
        "DNA\n",
        "#A - T\n",
        "#C - G"
      ],
      "metadata": {
        "colab": {
          "base_uri": "https://localhost:8080/"
        },
        "id": "nEwUm5JRiQv7",
        "outputId": "1d410c99-01db-48e2-e082-14ba7a7a624e"
      },
      "execution_count": null,
      "outputs": [
        {
          "output_type": "execute_result",
          "data": {
            "text/plain": [
              "Seq('CGATAGTTACGA')"
            ]
          },
          "metadata": {},
          "execution_count": 52
        }
      ]
    },
    {
      "cell_type": "markdown",
      "source": [
        "Complement"
      ],
      "metadata": {
        "id": "77z2aZpRixGC"
      }
    },
    {
      "cell_type": "code",
      "source": [
        "DNA.complement()"
      ],
      "metadata": {
        "colab": {
          "base_uri": "https://localhost:8080/"
        },
        "id": "50ZZfYtRikhs",
        "outputId": "62d16d1c-8b46-4319-b580-6e1eedb6b430"
      },
      "execution_count": null,
      "outputs": [
        {
          "output_type": "execute_result",
          "data": {
            "text/plain": [
              "Seq('GCTATCAATGCT')"
            ]
          },
          "metadata": {},
          "execution_count": 53
        }
      ]
    },
    {
      "cell_type": "code",
      "source": [
        "DNA.complement()[0:5]"
      ],
      "metadata": {
        "colab": {
          "base_uri": "https://localhost:8080/"
        },
        "id": "CTjR2TAnjaUl",
        "outputId": "56260344-9518-4ea9-c517-65425462776a"
      },
      "execution_count": null,
      "outputs": [
        {
          "output_type": "execute_result",
          "data": {
            "text/plain": [
              "Seq('GCTAT')"
            ]
          },
          "metadata": {},
          "execution_count": 54
        }
      ]
    },
    {
      "cell_type": "markdown",
      "source": [
        "Reverse Complement"
      ],
      "metadata": {
        "id": "7X4xGOvbi5HH"
      }
    },
    {
      "cell_type": "code",
      "source": [
        "DNA.reverse_complement()\n",
        "#bisa melakukan slicing + complements\n",
        "DNA.reverse_complement()[0:5]"
      ],
      "metadata": {
        "colab": {
          "base_uri": "https://localhost:8080/"
        },
        "id": "CJLGaYC8i1bO",
        "outputId": "af5b9dad-3f40-43ed-c65a-1c915e7b3c82"
      },
      "execution_count": null,
      "outputs": [
        {
          "output_type": "execute_result",
          "data": {
            "text/plain": [
              "Seq('TCGTA')"
            ]
          },
          "metadata": {},
          "execution_count": 55
        }
      ]
    },
    {
      "cell_type": "code",
      "source": [
        "#Method\n",
        "DNA_reversed = DNA.reverse_complement()[0:5]\n",
        "print('Reverse Method :', DNA_reversed)\n",
        "\n",
        "#Manual\n",
        "DNA_reversed_manual = DNA.complement()[::-1]\n",
        "print('Reverse Manual :',DNA_reversed_manual)"
      ],
      "metadata": {
        "colab": {
          "base_uri": "https://localhost:8080/"
        },
        "id": "SST-vMvfi9x7",
        "outputId": "c1957457-946c-43e5-aeb6-7f49bcd8588e"
      },
      "execution_count": null,
      "outputs": [
        {
          "output_type": "stream",
          "name": "stdout",
          "text": [
            "Reverse Method : TCGTA\n",
            "Reverse Manual : TCGTAACTATCG\n"
          ]
        }
      ]
    },
    {
      "cell_type": "markdown",
      "source": [
        "Transcription"
      ],
      "metadata": {
        "id": "V89Doo8BkQE8"
      }
    },
    {
      "cell_type": "code",
      "source": [
        "#Mengubah RNA menjadi DNA\n",
        "mRNA = DNA.transcribe() #bisa di slicing dan reverse\n",
        "print('DNA :', DNA)\n",
        "print('RNA :', mRNA)\n",
        "\n",
        "mRNA_reversed = DNA.transcribe()[::-1]\n",
        "print('mRNA Reversed : ', mRNA_reversed)"
      ],
      "metadata": {
        "colab": {
          "base_uri": "https://localhost:8080/"
        },
        "id": "qTrSfeAOjtl_",
        "outputId": "178b4638-2fb0-45bb-c16b-113dd7a8b068"
      },
      "execution_count": null,
      "outputs": [
        {
          "output_type": "stream",
          "name": "stdout",
          "text": [
            "DNA : CGATAGTTACGA\n",
            "RNA : CGAUAGUUACGA\n",
            "mRNA Reversed :  AGCAUUGAUAGC\n"
          ]
        }
      ]
    },
    {
      "cell_type": "markdown",
      "source": [
        "Back Transcribe"
      ],
      "metadata": {
        "id": "y39LXQWzlRFo"
      }
    },
    {
      "cell_type": "code",
      "source": [
        "#Mengubah DNA menjadi mRNA\n",
        "#Semua bisa di slicing\n",
        "print('mRNA :', mRNA)\n",
        "print('DNA :', DNA)\n",
        "\n",
        "print('mRNA Back Transcribe : ',mRNA.back_transcribe())"
      ],
      "metadata": {
        "colab": {
          "base_uri": "https://localhost:8080/"
        },
        "id": "gFe_WQ9WkjtH",
        "outputId": "ec96b50a-fd05-4a8c-ae1f-07d0beff5591"
      },
      "execution_count": null,
      "outputs": [
        {
          "output_type": "stream",
          "name": "stdout",
          "text": [
            "mRNA : CGAUAGUUACGA\n",
            "DNA : CGATAGTTACGA\n",
            "mRNA Back Transcribe :  CGATAGTTACGA\n"
          ]
        }
      ]
    },
    {
      "cell_type": "markdown",
      "source": [
        "Translation"
      ],
      "metadata": {
        "id": "HGrVa2PXmCju"
      }
    },
    {
      "cell_type": "code",
      "source": [
        "protein = mRNA.translate()\n",
        "#Add stop symbol\n",
        "print('Protein :', protein)\n"
      ],
      "metadata": {
        "colab": {
          "base_uri": "https://localhost:8080/"
        },
        "id": "o0dgSOapllIh",
        "outputId": "d691ef8a-759c-4a03-d38c-a782701ccb70"
      },
      "execution_count": null,
      "outputs": [
        {
          "output_type": "stream",
          "name": "stdout",
          "text": [
            "Protein : R*LR\n"
          ]
        }
      ]
    },
    {
      "cell_type": "markdown",
      "source": [
        "Seq 3"
      ],
      "metadata": {
        "id": "VFiN-F1bnqGt"
      }
    },
    {
      "cell_type": "code",
      "source": [
        "#ctrls + space -> auto complete\n",
        "from Bio.SeqUtils import seq3\n",
        "\n",
        "\n",
        "print(DNA.transcribe())\n",
        "SeqLong = seq3(protein)\n",
        "print('Protein :',SeqLong)"
      ],
      "metadata": {
        "colab": {
          "base_uri": "https://localhost:8080/"
        },
        "id": "QdPu4k-mmn8w",
        "outputId": "6b214897-a3f4-480d-fcab-69cfb634010e"
      },
      "execution_count": null,
      "outputs": [
        {
          "output_type": "stream",
          "name": "stdout",
          "text": [
            "CGAUAGUUACGA\n",
            "Protein : ArgTerLeuArg\n"
          ]
        }
      ]
    },
    {
      "cell_type": "code",
      "source": [
        "#DNA - Protein\n",
        "print('DNA -> Protein : ', DNA.translate())\n",
        "\n",
        "#DNA -> mRNA -> Protein\n",
        "print('DNA -> mRNA -> Protein : ', DNA.transcribe().translate())"
      ],
      "metadata": {
        "id": "vNpbhYHNoHGt",
        "colab": {
          "base_uri": "https://localhost:8080/"
        },
        "outputId": "84347509-3e6a-4aad-f38f-8591d335ed4d"
      },
      "execution_count": null,
      "outputs": [
        {
          "output_type": "stream",
          "name": "stdout",
          "text": [
            "DNA -> Protein :  R*LR\n",
            "DNA -> mRNA -> Protein :  R*LR\n"
          ]
        }
      ]
    },
    {
      "cell_type": "code",
      "source": [
        "#Bisa di slicing dan reverse\n",
        "from Bio.SeqUtils import seq1\n",
        "\n",
        "print(DNA.transcribe())\n",
        "seqShort = seq1(SeqLong)\n",
        "print('Protein Short : ', seqShort)\n",
        "\n",
        "\n",
        "\n",
        "#Short Reverse\n",
        "seqShort_reversed = seq1(SeqLong)[::-1]\n",
        "print('Protein Short Reversed : ', seqShort_reversed)\n",
        "\n",
        "\n",
        "#Long Reverse\n",
        "seqLong_reversed = seq3(DNA.translate()[::-1])\n",
        "print('Protein Long Reversed : ', seqLong_reversed)"
      ],
      "metadata": {
        "colab": {
          "base_uri": "https://localhost:8080/"
        },
        "id": "_mOfoCPeoirS",
        "outputId": "df549b52-2d74-4a48-90be-878e01828779"
      },
      "execution_count": null,
      "outputs": [
        {
          "output_type": "stream",
          "name": "stdout",
          "text": [
            "CGAUAGUUACGA\n",
            "Protein Short :  R*LR\n",
            "Protein Short Reversed :  RL*R\n",
            "Protein Long Reversed :  ArgLeuTerArg\n"
          ]
        }
      ]
    },
    {
      "cell_type": "markdown",
      "source": [
        "Codon Table"
      ],
      "metadata": {
        "id": "wl5Vi4QUq13F"
      }
    },
    {
      "cell_type": "code",
      "source": [
        "from Bio.Data import CodonTable as table"
      ],
      "metadata": {
        "id": "LotRegZDpeUV"
      },
      "execution_count": null,
      "outputs": []
    },
    {
      "cell_type": "code",
      "source": [
        "dir(table)"
      ],
      "metadata": {
        "colab": {
          "base_uri": "https://localhost:8080/"
        },
        "id": "Ln9_3mJ5q70T",
        "outputId": "35d0d7a4-9f61-4afb-b359-47f1d35187a5"
      },
      "execution_count": null,
      "outputs": [
        {
          "output_type": "execute_result",
          "data": {
            "text/plain": [
              "['AmbiguousCodonTable',\n",
              " 'AmbiguousForwardTable',\n",
              " 'CodonTable',\n",
              " 'IUPACData',\n",
              " 'NCBICodonTable',\n",
              " 'NCBICodonTableDNA',\n",
              " 'NCBICodonTableRNA',\n",
              " 'TranslationError',\n",
              " '__builtins__',\n",
              " '__cached__',\n",
              " '__doc__',\n",
              " '__file__',\n",
              " '__loader__',\n",
              " '__name__',\n",
              " '__package__',\n",
              " '__spec__',\n",
              " 'ambiguous_dna_by_id',\n",
              " 'ambiguous_dna_by_name',\n",
              " 'ambiguous_generic_by_id',\n",
              " 'ambiguous_generic_by_name',\n",
              " 'ambiguous_rna_by_id',\n",
              " 'ambiguous_rna_by_name',\n",
              " 'generic_by_id',\n",
              " 'generic_by_name',\n",
              " 'list_ambiguous_codons',\n",
              " 'list_possible_proteins',\n",
              " 'make_back_table',\n",
              " 'register_ncbi_table',\n",
              " 'standard_dna_table',\n",
              " 'standard_rna_table',\n",
              " 'unambiguous_dna_by_id',\n",
              " 'unambiguous_dna_by_name',\n",
              " 'unambiguous_rna_by_id',\n",
              " 'unambiguous_rna_by_name']"
            ]
          },
          "metadata": {},
          "execution_count": 64
        }
      ]
    },
    {
      "cell_type": "code",
      "source": [
        "#View coodn table DNA\n",
        "#Dalam ['Standard'] bisa diubah menjaid [1][2] dll\n",
        "#yang by name harus hafal namanya misal Vertebrate Mitochindrial\n",
        "print(table.ambiguous_dna_by_name['Standard'])"
      ],
      "metadata": {
        "colab": {
          "base_uri": "https://localhost:8080/"
        },
        "id": "8cnuz4FIrD6t",
        "outputId": "fafbbc4e-fe31-43c7-fe23-65ae0919a26d"
      },
      "execution_count": null,
      "outputs": [
        {
          "output_type": "stream",
          "name": "stdout",
          "text": [
            "Table 1 Standard, SGC0\n",
            "\n",
            "  |  T      |  C      |  A      |  G      |\n",
            "--+---------+---------+---------+---------+--\n",
            "T | TTT F   | TCT S   | TAT Y   | TGT C   | T\n",
            "T | TTC F   | TCC S   | TAC Y   | TGC C   | C\n",
            "T | TTA L   | TCA S   | TAA Stop| TGA Stop| A\n",
            "T | TTG L(s)| TCG S   | TAG Stop| TGG W   | G\n",
            "--+---------+---------+---------+---------+--\n",
            "C | CTT L   | CCT P   | CAT H   | CGT R   | T\n",
            "C | CTC L   | CCC P   | CAC H   | CGC R   | C\n",
            "C | CTA L   | CCA P   | CAA Q   | CGA R   | A\n",
            "C | CTG L(s)| CCG P   | CAG Q   | CGG R   | G\n",
            "--+---------+---------+---------+---------+--\n",
            "A | ATT I   | ACT T   | AAT N   | AGT S   | T\n",
            "A | ATC I   | ACC T   | AAC N   | AGC S   | C\n",
            "A | ATA I   | ACA T   | AAA K   | AGA R   | A\n",
            "A | ATG M(s)| ACG T   | AAG K   | AGG R   | G\n",
            "--+---------+---------+---------+---------+--\n",
            "G | GTT V   | GCT A   | GAT D   | GGT G   | T\n",
            "G | GTC V   | GCC A   | GAC D   | GGC G   | C\n",
            "G | GTA V   | GCA A   | GAA E   | GGA G   | A\n",
            "G | GTG V   | GCG A   | GAG E   | GGG G   | G\n",
            "--+---------+---------+---------+---------+--\n"
          ]
        }
      ]
    },
    {
      "cell_type": "code",
      "source": [
        "#RNA codon Table\n",
        "print(table.unambiguous_rna_by_name['Standard'])"
      ],
      "metadata": {
        "colab": {
          "base_uri": "https://localhost:8080/"
        },
        "id": "BqRhSR87rai2",
        "outputId": "8190a978-38d2-4e64-d00e-0d3ba544987f"
      },
      "execution_count": null,
      "outputs": [
        {
          "output_type": "stream",
          "name": "stdout",
          "text": [
            "Table 1 Standard, SGC0\n",
            "\n",
            "  |  U      |  C      |  A      |  G      |\n",
            "--+---------+---------+---------+---------+--\n",
            "U | UUU F   | UCU S   | UAU Y   | UGU C   | U\n",
            "U | UUC F   | UCC S   | UAC Y   | UGC C   | C\n",
            "U | UUA L   | UCA S   | UAA Stop| UGA Stop| A\n",
            "U | UUG L(s)| UCG S   | UAG Stop| UGG W   | G\n",
            "--+---------+---------+---------+---------+--\n",
            "C | CUU L   | CCU P   | CAU H   | CGU R   | U\n",
            "C | CUC L   | CCC P   | CAC H   | CGC R   | C\n",
            "C | CUA L   | CCA P   | CAA Q   | CGA R   | A\n",
            "C | CUG L(s)| CCG P   | CAG Q   | CGG R   | G\n",
            "--+---------+---------+---------+---------+--\n",
            "A | AUU I   | ACU T   | AAU N   | AGU S   | U\n",
            "A | AUC I   | ACC T   | AAC N   | AGC S   | C\n",
            "A | AUA I   | ACA T   | AAA K   | AGA R   | A\n",
            "A | AUG M(s)| ACG T   | AAG K   | AGG R   | G\n",
            "--+---------+---------+---------+---------+--\n",
            "G | GUU V   | GCU A   | GAU D   | GGU G   | U\n",
            "G | GUC V   | GCC A   | GAC D   | GGC G   | C\n",
            "G | GUA V   | GCA A   | GAA E   | GGA G   | A\n",
            "G | GUG V   | GCG A   | GAG E   | GGG G   | G\n",
            "--+---------+---------+---------+---------+--\n"
          ]
        }
      ]
    },
    {
      "cell_type": "markdown",
      "source": [
        "3D Model"
      ],
      "metadata": {
        "id": "FkpNxNYItKor"
      }
    },
    {
      "cell_type": "code",
      "source": [
        "!pip install py3Dmol"
      ],
      "metadata": {
        "colab": {
          "base_uri": "https://localhost:8080/"
        },
        "id": "SDdVOtYxrpuD",
        "outputId": "879e3270-7dd8-4aa1-dedf-3b1f5b0dec9f"
      },
      "execution_count": null,
      "outputs": [
        {
          "output_type": "stream",
          "name": "stdout",
          "text": [
            "Looking in indexes: https://pypi.org/simple, https://us-python.pkg.dev/colab-wheels/public/simple/\n",
            "Requirement already satisfied: py3Dmol in /usr/local/lib/python3.9/dist-packages (2.0.1.post1)\n"
          ]
        }
      ]
    },
    {
      "cell_type": "code",
      "source": [
        "import py3Dmol"
      ],
      "metadata": {
        "id": "Om7oy4N-tQmU"
      },
      "execution_count": null,
      "outputs": []
    },
    {
      "cell_type": "code",
      "source": [
        "#View model virus corona\n",
        "viewModel = py3Dmol.view(query='pdb:6LU7')\n",
        "viewModel.setStyle({'cartoon': {'color':'spectrum'}})"
      ],
      "metadata": {
        "colab": {
          "base_uri": "https://localhost:8080/",
          "height": 514
        },
        "id": "LbcuESQgtXTU",
        "outputId": "c06bc913-5881-46a5-f8eb-29ba68a2463e"
      },
      "execution_count": null,
      "outputs": [
        {
          "output_type": "display_data",
          "data": {
            "application/3dmoljs_load.v0": "<div id=\"3dmolviewer_16789591899755235\"  style=\"position: relative; width: 640px; height: 480px\">\n        <p id=\"3dmolwarning_16789591899755235\" style=\"background-color:#ffcccc;color:black\">You appear to be running in JupyterLab (or JavaScript failed to load for some other reason).  You need to install the 3dmol extension: <br>\n        <tt>jupyter labextension install jupyterlab_3dmol</tt></p>\n        </div>\n<script>\n\nvar loadScriptAsync = function(uri){\n  return new Promise((resolve, reject) => {\n    //this is to ignore the existence of requirejs amd\n    var savedexports, savedmodule;\n    if (typeof exports !== 'undefined') savedexports = exports;\n    else exports = {}\n    if (typeof module !== 'undefined') savedmodule = module;\n    else module = {}\n\n    var tag = document.createElement('script');\n    tag.src = uri;\n    tag.async = true;\n    tag.onload = () => {\n        exports = savedexports;\n        module = savedmodule;\n        resolve();\n    };\n  var firstScriptTag = document.getElementsByTagName('script')[0];\n  firstScriptTag.parentNode.insertBefore(tag, firstScriptTag);\n});\n};\n\nif(typeof $3Dmolpromise === 'undefined') {\n$3Dmolpromise = null;\n  $3Dmolpromise = loadScriptAsync('https://cdnjs.cloudflare.com/ajax/libs/3Dmol/2.0.1/3Dmol-min.js');\n}\n\nvar viewer_16789591899755235 = null;\nvar warn = document.getElementById(\"3dmolwarning_16789591899755235\");\nif(warn) {\n    warn.parentNode.removeChild(warn);\n}\n$3Dmolpromise.then(function() {\nviewer_16789591899755235 = $3Dmol.createViewer(document.getElementById(\"3dmolviewer_16789591899755235\"),{backgroundColor:\"white\"});\n$3Dmol.download(\"pdb:6LU7\", viewer_16789591899755235, {}, function() {\nviewer_16789591899755235.zoomTo();\n\tviewer_16789591899755235.setStyle({\"cartoon\": {\"color\": \"spectrum\"}});\nviewer_16789591899755235.render();\n})\n});\n</script>",
            "text/html": [
              "<div id=\"3dmolviewer_16789591899755235\"  style=\"position: relative; width: 640px; height: 480px\">\n",
              "        <p id=\"3dmolwarning_16789591899755235\" style=\"background-color:#ffcccc;color:black\">You appear to be running in JupyterLab (or JavaScript failed to load for some other reason).  You need to install the 3dmol extension: <br>\n",
              "        <tt>jupyter labextension install jupyterlab_3dmol</tt></p>\n",
              "        </div>\n",
              "<script>\n",
              "\n",
              "var loadScriptAsync = function(uri){\n",
              "  return new Promise((resolve, reject) => {\n",
              "    //this is to ignore the existence of requirejs amd\n",
              "    var savedexports, savedmodule;\n",
              "    if (typeof exports !== 'undefined') savedexports = exports;\n",
              "    else exports = {}\n",
              "    if (typeof module !== 'undefined') savedmodule = module;\n",
              "    else module = {}\n",
              "\n",
              "    var tag = document.createElement('script');\n",
              "    tag.src = uri;\n",
              "    tag.async = true;\n",
              "    tag.onload = () => {\n",
              "        exports = savedexports;\n",
              "        module = savedmodule;\n",
              "        resolve();\n",
              "    };\n",
              "  var firstScriptTag = document.getElementsByTagName('script')[0];\n",
              "  firstScriptTag.parentNode.insertBefore(tag, firstScriptTag);\n",
              "});\n",
              "};\n",
              "\n",
              "if(typeof $3Dmolpromise === 'undefined') {\n",
              "$3Dmolpromise = null;\n",
              "  $3Dmolpromise = loadScriptAsync('https://cdnjs.cloudflare.com/ajax/libs/3Dmol/2.0.1/3Dmol-min.js');\n",
              "}\n",
              "\n",
              "var viewer_16789591899755235 = null;\n",
              "var warn = document.getElementById(\"3dmolwarning_16789591899755235\");\n",
              "if(warn) {\n",
              "    warn.parentNode.removeChild(warn);\n",
              "}\n",
              "$3Dmolpromise.then(function() {\n",
              "viewer_16789591899755235 = $3Dmol.createViewer(document.getElementById(\"3dmolviewer_16789591899755235\"),{backgroundColor:\"white\"});\n",
              "$3Dmol.download(\"pdb:6LU7\", viewer_16789591899755235, {}, function() {\n",
              "viewer_16789591899755235.zoomTo();\n",
              "\tviewer_16789591899755235.setStyle({\"cartoon\": {\"color\": \"spectrum\"}});\n",
              "viewer_16789591899755235.render();\n",
              "})\n",
              "});\n",
              "</script>"
            ]
          },
          "metadata": {}
        },
        {
          "output_type": "execute_result",
          "data": {
            "text/plain": [
              "<py3Dmol.view at 0x7f5b76adcca0>"
            ]
          },
          "metadata": {},
          "execution_count": 69
        }
      ]
    },
    {
      "cell_type": "code",
      "source": [],
      "metadata": {
        "id": "uHvKqa18tm2I"
      },
      "execution_count": null,
      "outputs": []
    }
  ]
}