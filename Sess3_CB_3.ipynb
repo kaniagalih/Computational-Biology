{
  "nbformat": 4,
  "nbformat_minor": 0,
  "metadata": {
    "colab": {
      "provenance": []
    },
    "kernelspec": {
      "name": "python3",
      "display_name": "Python 3"
    },
    "language_info": {
      "name": "python"
    }
  },
  "cells": [
    {
      "cell_type": "markdown",
      "source": [
        "![image.png](data:image/png;base64,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)"
      ],
      "metadata": {
        "id": "MdhAOOIHvlG4"
      }
    },
    {
      "cell_type": "code",
      "execution_count": 1,
      "metadata": {
        "colab": {
          "base_uri": "https://localhost:8080/"
        },
        "id": "pBOSGItPvdy8",
        "outputId": "eb711f7c-342f-46e0-d28e-018a2b376462"
      },
      "outputs": [
        {
          "output_type": "stream",
          "name": "stdout",
          "text": [
            "Collecting biopython\n",
            "  Downloading biopython-1.83-cp310-cp310-manylinux_2_17_x86_64.manylinux2014_x86_64.whl (3.1 MB)\n",
            "\u001b[2K     \u001b[90m━━━━━━━━━━━━━━━━━━━━━━━━━━━━━━━━━━━━━━━━\u001b[0m \u001b[32m3.1/3.1 MB\u001b[0m \u001b[31m24.3 MB/s\u001b[0m eta \u001b[36m0:00:00\u001b[0m\n",
            "\u001b[?25hRequirement already satisfied: numpy in /usr/local/lib/python3.10/dist-packages (from biopython) (1.25.2)\n",
            "Installing collected packages: biopython\n",
            "Successfully installed biopython-1.83\n"
          ]
        }
      ],
      "source": [
        "!pip install biopython"
      ]
    },
    {
      "cell_type": "code",
      "source": [
        "import Bio\n",
        "from Bio.Seq import Seq"
      ],
      "metadata": {
        "id": "oRdhdVImvtX4"
      },
      "execution_count": 15,
      "outputs": []
    },
    {
      "cell_type": "code",
      "source": [
        "#Seq A = DNA 1\n",
        "#Seq B = DNA 2\n",
        "DNA1 = Seq('ATGCGTTTATGACGTATCTGAAGTCTACTAGGGTGATCTGACTAA')\n",
        "DNA2 = Seq('GTGTTAGTGCGCTAGTGCTGACTAGGTACAGTAGCTAGTTACTAG')\n",
        "print('DNA1 : ', DNA1)\n",
        "print('DNA2 : ', DNA2)"
      ],
      "metadata": {
        "colab": {
          "base_uri": "https://localhost:8080/"
        },
        "id": "8L-_6XPOvvkc",
        "outputId": "fa2223e7-bc0d-47ab-db28-cfdaf14d488b"
      },
      "execution_count": 16,
      "outputs": [
        {
          "output_type": "stream",
          "name": "stdout",
          "text": [
            "DNA1 :  ATGCGTTTATGACGTATCTGAAGTCTACTAGGGTGATCTGACTAA\n",
            "DNA2 :  GTGTTAGTGCGCTAGTGCTGACTAGGTACAGTAGCTAGTTACTAG\n"
          ]
        }
      ]
    },
    {
      "cell_type": "markdown",
      "source": [
        "Complement"
      ],
      "metadata": {
        "id": "cQ5_Hig2xsge"
      }
    },
    {
      "cell_type": "code",
      "source": [
        "#Complement\n",
        "DNA1.complement()\n"
      ],
      "metadata": {
        "colab": {
          "base_uri": "https://localhost:8080/"
        },
        "id": "yR7XrOeOwV1y",
        "outputId": "9a9d2306-a107-48cc-ed59-17e797d549d9"
      },
      "execution_count": 17,
      "outputs": [
        {
          "output_type": "execute_result",
          "data": {
            "text/plain": [
              "Seq('TACGCAAATACTGCATAGACTTCAGATGATCCCACTAGACTGATT')"
            ]
          },
          "metadata": {},
          "execution_count": 17
        }
      ]
    },
    {
      "cell_type": "code",
      "source": [
        "DNA2.complement()"
      ],
      "metadata": {
        "colab": {
          "base_uri": "https://localhost:8080/"
        },
        "id": "fz_u-QgwxPUL",
        "outputId": "d18efe19-5113-42ee-d703-76d4eb825d34"
      },
      "execution_count": 18,
      "outputs": [
        {
          "output_type": "execute_result",
          "data": {
            "text/plain": [
              "Seq('CACAATCACGCGATCACGACTGATCCATGTCATCGATCAATGATC')"
            ]
          },
          "metadata": {},
          "execution_count": 18
        }
      ]
    },
    {
      "cell_type": "markdown",
      "source": [
        "Transcribe"
      ],
      "metadata": {
        "id": "PWzEvUY9xvcu"
      }
    },
    {
      "cell_type": "code",
      "source": [
        "mRNA1 = DNA1.transcribe()\n",
        "print('RNA1 : ', mRNA1)\n",
        "\n",
        "mRNA2 = DNA2.transcribe()\n",
        "print('RNA2 :', mRNA2)"
      ],
      "metadata": {
        "colab": {
          "base_uri": "https://localhost:8080/"
        },
        "id": "7XpGaKJZxSbh",
        "outputId": "8d7f4fd4-2d29-4a52-e321-0a196c724d14"
      },
      "execution_count": 19,
      "outputs": [
        {
          "output_type": "stream",
          "name": "stdout",
          "text": [
            "RNA1 :  AUGCGUUUAUGACGUAUCUGAAGUCUACUAGGGUGAUCUGACUAA\n",
            "RNA2 : GUGUUAGUGCGCUAGUGCUGACUAGGUACAGUAGCUAGUUACUAG\n"
          ]
        }
      ]
    },
    {
      "cell_type": "markdown",
      "source": [
        "Combine"
      ],
      "metadata": {
        "id": "F7jZI6-Fxwqy"
      }
    },
    {
      "cell_type": "code",
      "source": [
        "RNA3_starting = mRNA1[0:23]\n",
        "print(RNA3_starting)\n",
        "\n",
        "RNA3_ending = mRNA2[23:44]\n",
        "print(RNA3_ending)"
      ],
      "metadata": {
        "colab": {
          "base_uri": "https://localhost:8080/"
        },
        "id": "6iLg_ZGmxjni",
        "outputId": "2be8c3db-694b-4fc9-a1cf-14645d0683e4"
      },
      "execution_count": 20,
      "outputs": [
        {
          "output_type": "stream",
          "name": "stdout",
          "text": [
            "AUGCGUUUAUGACGUAUCUGAAG\n",
            "AGGUACAGUAGCUAGUUACUA\n"
          ]
        }
      ]
    },
    {
      "cell_type": "code",
      "source": [
        "#Menggabungkan strating + ending\n",
        "mRNA3 = RNA3_starting + RNA3_ending\n",
        "print(mRNA3)"
      ],
      "metadata": {
        "colab": {
          "base_uri": "https://localhost:8080/"
        },
        "id": "fkzjR83nyjLj",
        "outputId": "ed786ae2-6134-4a88-973e-9b273085c636"
      },
      "execution_count": 21,
      "outputs": [
        {
          "output_type": "stream",
          "name": "stdout",
          "text": [
            "AUGCGUUUAUGACGUAUCUGAAGAGGUACAGUAGCUAGUUACUA\n"
          ]
        }
      ]
    },
    {
      "cell_type": "markdown",
      "source": [
        "Translate"
      ],
      "metadata": {
        "id": "fsZClsLjz5k7"
      }
    },
    {
      "cell_type": "code",
      "source": [
        "trans_mRNA1 = mRNA1.translate()\n",
        "trans_mRNA2 = mRNA2.translate()\n",
        "trans_mRNA3 = mRNA3.translate()\n",
        "print('Translate RNA1: ', trans_mRNA1)\n",
        "print('Translate RNA2: ', trans_mRNA2)\n",
        "print('Translate RNA3: ', trans_mRNA3)"
      ],
      "metadata": {
        "colab": {
          "base_uri": "https://localhost:8080/"
        },
        "id": "sPdn5Zgoz8Q6",
        "outputId": "87962d44-2b58-44fd-ed68-9cfb6d0bdf50"
      },
      "execution_count": 22,
      "outputs": [
        {
          "output_type": "stream",
          "name": "stdout",
          "text": [
            "Translate RNA1:  MRL*RI*SLLG*SD*\n",
            "Translate RNA2:  VLVR*C*LGTVASY*\n",
            "Translate RNA3:  MRL*RI*RGTVASY\n"
          ]
        },
        {
          "output_type": "stream",
          "name": "stderr",
          "text": [
            "/usr/local/lib/python3.10/dist-packages/Bio/Seq.py:2880: BiopythonWarning: Partial codon, len(sequence) not a multiple of three. Explicitly trim the sequence or add trailing N before translation. This may become an error in future.\n",
            "  warnings.warn(\n"
          ]
        }
      ]
    },
    {
      "cell_type": "markdown",
      "source": [
        "Transcribe Back"
      ],
      "metadata": {
        "id": "_ufRIxd_0kKw"
      }
    },
    {
      "cell_type": "code",
      "source": [
        "#Transcribe back the mRNA sequence C into DNA.\n",
        "DNA3 = mRNA3.back_transcribe\n",
        "print('Transcribe Back to DNA : ', DNA3)"
      ],
      "metadata": {
        "colab": {
          "base_uri": "https://localhost:8080/"
        },
        "id": "zlT8NibG0ezO",
        "outputId": "c7e04fa9-3ace-4bc0-a8c8-dfb7e860fc79"
      },
      "execution_count": 23,
      "outputs": [
        {
          "output_type": "stream",
          "name": "stdout",
          "text": [
            "Transcribe Back to DNA :  <bound method _SeqAbstractBaseClass.back_transcribe of Seq('AUGCGUUUAUGACGUAUCUGAAGAGGUACAGUAGCUAGUUACUA')>\n"
          ]
        }
      ]
    },
    {
      "cell_type": "markdown",
      "source": [
        "Complementary"
      ],
      "metadata": {
        "id": "6hpKRDvV19OY"
      }
    },
    {
      "cell_type": "code",
      "source": [
        "DNA3"
      ],
      "metadata": {
        "colab": {
          "base_uri": "https://localhost:8080/",
          "height": 188
        },
        "id": "dZAIF10Pe_wi",
        "outputId": "8126d8e6-3ecc-4700-f013-c0d6a4885329"
      },
      "execution_count": 14,
      "outputs": [
        {
          "output_type": "execute_result",
          "data": {
            "text/plain": [
              "<bound method _SeqAbstractBaseClass.back_transcribe of Seq('AUGCGUUUAUGACGUAUCUGAAGAGGUACAGUAGCUAGUUACUA')>"
            ],
            "text/html": [
              "<div style=\"max-width:800px; border: 1px solid var(--colab-border-color);\"><style>\n",
              "      pre.function-repr-contents {\n",
              "        overflow-x: auto;\n",
              "        padding: 8px 12px;\n",
              "        max-height: 500px;\n",
              "      }\n",
              "\n",
              "      pre.function-repr-contents.function-repr-contents-collapsed {\n",
              "        cursor: pointer;\n",
              "        max-height: 100px;\n",
              "      }\n",
              "    </style>\n",
              "    <pre style=\"white-space: initial; background:\n",
              "         var(--colab-secondary-surface-color); padding: 8px 12px;\n",
              "         border-bottom: 1px solid var(--colab-border-color);\"><b>Bio.Seq._SeqAbstractBaseClass.back_transcribe</b><br/>def back_transcribe(inplace=False)</pre><pre class=\"function-repr-contents function-repr-contents-collapsed\" style=\"\"><a class=\"filepath\" style=\"display:none\" href=\"#\">/usr/local/lib/python3.10/dist-packages/Bio/Seq.py</a>Return the DNA sequence from an RNA sequence by creating a new Seq object.\n",
              "\n",
              "&gt;&gt;&gt; from Bio.Seq import Seq\n",
              "&gt;&gt;&gt; messenger_rna = Seq(&quot;AUGGCCAUUGUAAUGGGCCGCUGAAAGGGUGCCCGAUAG&quot;)\n",
              "&gt;&gt;&gt; messenger_rna\n",
              "Seq(&#x27;AUGGCCAUUGUAAUGGGCCGCUGAAAGGGUGCCCGAUAG&#x27;)\n",
              "&gt;&gt;&gt; messenger_rna.back_transcribe()\n",
              "Seq(&#x27;ATGGCCATTGTAATGGGCCGCTGAAAGGGTGCCCGATAG&#x27;)\n",
              "\n",
              "The sequence is modified in-place and returned if inplace is True:\n",
              "\n",
              "&gt;&gt;&gt; sequence = MutableSeq(&quot;AUGGCCAUUGUAAUGGGCCGCUGAAAGGGUGCCCGAUAG&quot;)\n",
              "&gt;&gt;&gt; sequence\n",
              "MutableSeq(&#x27;AUGGCCAUUGUAAUGGGCCGCUGAAAGGGUGCCCGAUAG&#x27;)\n",
              "&gt;&gt;&gt; sequence.back_transcribe()\n",
              "MutableSeq(&#x27;ATGGCCATTGTAATGGGCCGCTGAAAGGGTGCCCGATAG&#x27;)\n",
              "&gt;&gt;&gt; sequence\n",
              "MutableSeq(&#x27;AUGGCCAUUGUAAUGGGCCGCUGAAAGGGUGCCCGAUAG&#x27;)\n",
              "\n",
              "&gt;&gt;&gt; sequence.back_transcribe(inplace=True)\n",
              "MutableSeq(&#x27;ATGGCCATTGTAATGGGCCGCTGAAAGGGTGCCCGATAG&#x27;)\n",
              "&gt;&gt;&gt; sequence\n",
              "MutableSeq(&#x27;ATGGCCATTGTAATGGGCCGCTGAAAGGGTGCCCGATAG&#x27;)\n",
              "\n",
              "As ``Seq`` objects are immutable, a ``TypeError`` is raised if\n",
              "``transcribe`` is called on a ``Seq`` object with ``inplace=True``.\n",
              "\n",
              "Trying to back-transcribe DNA has no effect, If you have a nucleotide\n",
              "sequence which might be DNA or RNA (or even a mixture), calling the\n",
              "back-transcribe method will ensure any U becomes T.\n",
              "\n",
              "Trying to back-transcribe a protein sequence will replace any U for\n",
              "Selenocysteine with T for Threonine, which is biologically meaningless.\n",
              "\n",
              "&gt;&gt;&gt; from Bio.Seq import Seq\n",
              "&gt;&gt;&gt; my_protein = Seq(&quot;MAIVMGRU&quot;)\n",
              "&gt;&gt;&gt; my_protein.back_transcribe()\n",
              "Seq(&#x27;MAIVMGRT&#x27;)</pre>\n",
              "      <script>\n",
              "      if (google.colab.kernel.accessAllowed && google.colab.files && google.colab.files.view) {\n",
              "        for (const element of document.querySelectorAll('.filepath')) {\n",
              "          element.style.display = 'block'\n",
              "          element.onclick = (event) => {\n",
              "            event.preventDefault();\n",
              "            event.stopPropagation();\n",
              "            google.colab.files.view(element.textContent, 1869);\n",
              "          };\n",
              "        }\n",
              "      }\n",
              "      for (const element of document.querySelectorAll('.function-repr-contents')) {\n",
              "        element.onclick = (event) => {\n",
              "          event.preventDefault();\n",
              "          event.stopPropagation();\n",
              "          element.classList.toggle('function-repr-contents-collapsed');\n",
              "        };\n",
              "      }\n",
              "      </script>\n",
              "      </div>"
            ]
          },
          "metadata": {},
          "execution_count": 14
        }
      ]
    },
    {
      "cell_type": "code",
      "source": [
        "print('Complementary 1: ', DNA1.complement())\n",
        "print('Complementary 2: ', DNA2.complement())\n",
        "print('Complementary 3: ', DNA3.complement())"
      ],
      "metadata": {
        "colab": {
          "base_uri": "https://localhost:8080/",
          "height": 211
        },
        "id": "2bDBpsDo02MV",
        "outputId": "a377a338-cb48-420d-c84b-d0567cc47848"
      },
      "execution_count": 24,
      "outputs": [
        {
          "output_type": "stream",
          "name": "stdout",
          "text": [
            "Complementary 1:  TACGCAAATACTGCATAGACTTCAGATGATCCCACTAGACTGATT\n",
            "Complementary 2:  CACAATCACGCGATCACGACTGATCCATGTCATCGATCAATGATC\n"
          ]
        },
        {
          "output_type": "error",
          "ename": "AttributeError",
          "evalue": "'function' object has no attribute 'complement'",
          "traceback": [
            "\u001b[0;31m---------------------------------------------------------------------------\u001b[0m",
            "\u001b[0;31mAttributeError\u001b[0m                            Traceback (most recent call last)",
            "\u001b[0;32m<ipython-input-24-a9631b214978>\u001b[0m in \u001b[0;36m<cell line: 3>\u001b[0;34m()\u001b[0m\n\u001b[1;32m      1\u001b[0m \u001b[0mprint\u001b[0m\u001b[0;34m(\u001b[0m\u001b[0;34m'Complementary 1: '\u001b[0m\u001b[0;34m,\u001b[0m \u001b[0mDNA1\u001b[0m\u001b[0;34m.\u001b[0m\u001b[0mcomplement\u001b[0m\u001b[0;34m(\u001b[0m\u001b[0;34m)\u001b[0m\u001b[0;34m)\u001b[0m\u001b[0;34m\u001b[0m\u001b[0;34m\u001b[0m\u001b[0m\n\u001b[1;32m      2\u001b[0m \u001b[0mprint\u001b[0m\u001b[0;34m(\u001b[0m\u001b[0;34m'Complementary 2: '\u001b[0m\u001b[0;34m,\u001b[0m \u001b[0mDNA2\u001b[0m\u001b[0;34m.\u001b[0m\u001b[0mcomplement\u001b[0m\u001b[0;34m(\u001b[0m\u001b[0;34m)\u001b[0m\u001b[0;34m)\u001b[0m\u001b[0;34m\u001b[0m\u001b[0;34m\u001b[0m\u001b[0m\n\u001b[0;32m----> 3\u001b[0;31m \u001b[0mprint\u001b[0m\u001b[0;34m(\u001b[0m\u001b[0;34m'Complementary 3: '\u001b[0m\u001b[0;34m,\u001b[0m \u001b[0mDNA3\u001b[0m\u001b[0;34m.\u001b[0m\u001b[0mcomplement\u001b[0m\u001b[0;34m(\u001b[0m\u001b[0;34m)\u001b[0m\u001b[0;34m)\u001b[0m\u001b[0;34m\u001b[0m\u001b[0;34m\u001b[0m\u001b[0m\n\u001b[0m",
            "\u001b[0;31mAttributeError\u001b[0m: 'function' object has no attribute 'complement'"
          ]
        }
      ]
    },
    {
      "cell_type": "code",
      "source": [],
      "metadata": {
        "id": "K9kCqP_Z2bJ9"
      },
      "execution_count": null,
      "outputs": []
    }
  ]
}