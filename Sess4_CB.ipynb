{
  "nbformat": 4,
  "nbformat_minor": 0,
  "metadata": {
    "colab": {
      "provenance": []
    },
    "kernelspec": {
      "name": "python3",
      "display_name": "Python 3"
    },
    "language_info": {
      "name": "python"
    }
  },
  "cells": [
    {
      "cell_type": "code",
      "execution_count": null,
      "metadata": {
        "colab": {
          "base_uri": "https://localhost:8080/"
        },
        "id": "TUWloN6QlA6-",
        "outputId": "a6af2e1d-fa62-4bfd-de9e-e9e63429120f"
      },
      "outputs": [
        {
          "output_type": "stream",
          "name": "stdout",
          "text": [
            "Looking in indexes: https://pypi.org/simple, https://us-python.pkg.dev/colab-wheels/public/simple/\n",
            "Collecting biopython\n",
            "  Downloading biopython-1.81-cp39-cp39-manylinux_2_17_x86_64.manylinux2014_x86_64.whl (3.1 MB)\n",
            "\u001b[2K     \u001b[90m━━━━━━━━━━━━━━━━━━━━━━━━━━━━━━━━━━━━━━━━\u001b[0m \u001b[32m3.1/3.1 MB\u001b[0m \u001b[31m46.0 MB/s\u001b[0m eta \u001b[36m0:00:00\u001b[0m\n",
            "\u001b[?25hRequirement already satisfied: numpy in /usr/local/lib/python3.9/dist-packages (from biopython) (1.22.4)\n",
            "Installing collected packages: biopython\n",
            "Successfully installed biopython-1.81\n"
          ]
        }
      ],
      "source": [
        "#TODO : Install Required Libraries\n",
        "!pip install biopython\n",
        "#TODO : Create random sequence"
      ]
    },
    {
      "cell_type": "code",
      "source": [
        "from Bio.Seq import Seq\n",
        "\n",
        "seq1 = Seq(\"CAGTCAT\")\n",
        "seq2 = Seq(\"CGTAT\")\n",
        "print(seq1)\n",
        "print(seq2)"
      ],
      "metadata": {
        "colab": {
          "base_uri": "https://localhost:8080/"
        },
        "id": "C6c-slj9oHT_",
        "outputId": "6718d2c3-f5d6-4a07-af1f-b2dc066f5a7e"
      },
      "execution_count": null,
      "outputs": [
        {
          "output_type": "stream",
          "name": "stdout",
          "text": [
            "CAGTCAT\n",
            "CGTAT\n"
          ]
        }
      ]
    },
    {
      "cell_type": "code",
      "source": [
        "# package pairwise2 -> untuk check alignmetn global atau lokal"
      ],
      "metadata": {
        "id": "hmhCd0k6pxDU"
      },
      "execution_count": null,
      "outputs": []
    },
    {
      "cell_type": "code",
      "source": [
        "#A Alignments\n",
        "  # Sequence 1 : A C T C G\n",
        "  # Sequence 2 : A T T C _\n",
        "\n",
        "  # A-A, T-T, C-C -> Match\n",
        "  # C-T -> Mismatch\n",
        "  # G- _ -> Gap\n",
        "from Bio import pairwise2\n",
        "from Bio.pairwise2 import format_alignment\n",
        "#1. Global Alignment\n",
        "g_align = pairwise2.align.globalxx(seq1, seq2)\n",
        "print(g_align)\n",
        "\n",
        "for align in g_align:\n",
        "  print(format_alignment(*align)) #mendisplay smeua kemungkinan yang ada"
      ],
      "metadata": {
        "colab": {
          "base_uri": "https://localhost:8080/"
        },
        "id": "fU5pfyuzm0ta",
        "outputId": "da640cfe-40c8-4ac7-86b4-cdf3e4bf4dc0"
      },
      "execution_count": null,
      "outputs": [
        {
          "output_type": "stream",
          "name": "stdout",
          "text": [
            "[Alignment(seqA='CAGTCAT', seqB='C-GT-AT', score=5.0, start=0, end=7)]\n",
            "CAGTCAT\n",
            "| || ||\n",
            "C-GT-AT\n",
            "  Score=5\n",
            "\n"
          ]
        }
      ]
    },
    {
      "cell_type": "code",
      "source": [
        "#2. Local Alignment\n",
        "l_align = pairwise2.align.localxx(seq1, seq2)\n",
        "print(l_align)\n",
        "\n",
        "print(\"Seq1 = \", seq1)\n",
        "for align in l_align:\n",
        "  print(format_alignment(*align))"
      ],
      "metadata": {
        "colab": {
          "base_uri": "https://localhost:8080/"
        },
        "id": "B7-YOoJnm5uc",
        "outputId": "a78b1329-f533-4bbd-d207-33681feb6f0b"
      },
      "execution_count": null,
      "outputs": [
        {
          "output_type": "stream",
          "name": "stdout",
          "text": [
            "[Alignment(seqA='CAGTCAT', seqB='C-GT-AT', score=5.0, start=0, end=7)]\n",
            "Seq1 =  CAGTCAT\n",
            "CAGTCAT\n",
            "| || ||\n",
            "C-GT-AT\n",
            "  Score=5\n",
            "\n"
          ]
        }
      ]
    },
    {
      "cell_type": "code",
      "source": [
        "#B. Similarity (using alignment)\n",
        "#TODO : use global alignment, but only obtain the one alignment score only\n",
        "g_score = pairwise2.align.globalxx(seq1, seq2,\n",
        "                  one_alignment_only=True, score_only=True)\n",
        "g_similarity = g_score / len(seq1) * 100\n",
        "print(\"Global Similarity = \", g_similarity)\n",
        "\n",
        "#TODO : use lokal alignment, but only obtain the one alignment score only\n",
        "l_score = pairwise2.align.localxx(seq1, seq2,\n",
        "                  one_alignment_only=True, score_only=True)\n",
        "l_similarity = l_score / len(seq1) * 100\n",
        "print(\"GLokal Similarity = \", l_similarity)"
      ],
      "metadata": {
        "colab": {
          "base_uri": "https://localhost:8080/"
        },
        "id": "IpE1QJ-JrtGq",
        "outputId": "81782ada-29fd-4668-d09f-7e93d1a3c215"
      },
      "execution_count": null,
      "outputs": [
        {
          "output_type": "stream",
          "name": "stdout",
          "text": [
            "Global Similarity =  71.42857142857143\n",
            "GLokal Similarity =  71.42857142857143\n"
          ]
        }
      ]
    },
    {
      "cell_type": "code",
      "source": [
        "# Example Case :\n",
        "# Find out all the possible global alignments\n",
        "# with the maximum similarity score\n",
        "# Matching characters : 2 points\n",
        "# Each Mismatching character : -1 point\n",
        "# 0.5 points are deducated when opening a gap\n",
        "# 0.1 points are deducted when extending it\n",
        "seqX = Seq(\"CAGTCATACCT\")\n",
        "seqY = Seq(\"CAGATAAGCTG\")\n",
        "\n",
        "alignment = pairwise2.align.globalms(seqX, seqY, 2, -1, -0.5, -0.1)\n",
        "print(alignment)\n",
        "\n",
        "for align in alignment:\n",
        "  print(format_alignment(*align))"
      ],
      "metadata": {
        "colab": {
          "base_uri": "https://localhost:8080/"
        },
        "id": "GIxx_9pzucm-",
        "outputId": "4d910bcf-460b-404c-b5b1-772b3f99ac07"
      },
      "execution_count": null,
      "outputs": [
        {
          "output_type": "stream",
          "name": "stdout",
          "text": [
            "[Alignment(seqA='CAGTCATAC--CT-', seqB='CAG--ATA-AGCTG', score=13.8, start=0, end=14), Alignment(seqA='CAGTCATA--CCT-', seqB='CAG--ATAAGC-TG', score=13.8, start=0, end=14)]\n",
            "CAGTCATAC--CT-\n",
            "|||  |||   || \n",
            "CAG--ATA-AGCTG\n",
            "  Score=13.8\n",
            "\n",
            "CAGTCATA--CCT-\n",
            "|||  |||  | | \n",
            "CAG--ATAAGC-TG\n",
            "  Score=13.8\n",
            "\n"
          ]
        }
      ]
    },
    {
      "cell_type": "code",
      "source": [
        "#Distance\n",
        "\n",
        "#1. Hamming Distance\n",
        "def hammingDistance(seqX, seqY):\n",
        "  data = [(x,y) for x, y in zip(seqX, seqY) if x != y]\n",
        "\n",
        "  return len(data) #Bisa diubah dnegan prin(data) nanti outputnya berupa string dari padangan yang mismatch\n",
        "hammingDistance(seqX, seqY)"
      ],
      "metadata": {
        "colab": {
          "base_uri": "https://localhost:8080/"
        },
        "id": "VVCXSrhXwAhZ",
        "outputId": "101d6832-6629-419f-810d-92d01a194fde"
      },
      "execution_count": null,
      "outputs": [
        {
          "output_type": "execute_result",
          "data": {
            "text/plain": [
              "6"
            ]
          },
          "metadata": {},
          "execution_count": 28
        }
      ]
    },
    {
      "cell_type": "code",
      "source": [
        "#Perfom Hamming distance calculation\n",
        "print(\"Seq X  : \", seqX)\n",
        "print(\"Seq Y  : \", seqY)\n",
        "hammingDistance(seqX, seqY)"
      ],
      "metadata": {
        "colab": {
          "base_uri": "https://localhost:8080/"
        },
        "id": "vA2GPNsdye6q",
        "outputId": "a74a7348-11f1-4afa-d08f-6fe585c647e6"
      },
      "execution_count": null,
      "outputs": [
        {
          "output_type": "stream",
          "name": "stdout",
          "text": [
            "Seq X  :  CAGTCATACCT\n",
            "Seq Y  :  CAGATAAGCTG\n"
          ]
        },
        {
          "output_type": "execute_result",
          "data": {
            "text/plain": [
              "6"
            ]
          },
          "metadata": {},
          "execution_count": 29
        }
      ]
    },
    {
      "cell_type": "code",
      "source": [
        "#TODO : Install required modules\n",
        "!pip install python-levenshtein"
      ],
      "metadata": {
        "colab": {
          "base_uri": "https://localhost:8080/"
        },
        "id": "hvCtNOpi0u53",
        "outputId": "6c351e6c-e11e-4ffc-e363-e57e3b854b58"
      },
      "execution_count": null,
      "outputs": [
        {
          "output_type": "stream",
          "name": "stdout",
          "text": [
            "Looking in indexes: https://pypi.org/simple, https://us-python.pkg.dev/colab-wheels/public/simple/\n",
            "Collecting python-levenshtein\n",
            "  Downloading python_Levenshtein-0.20.9-py3-none-any.whl (9.4 kB)\n",
            "Collecting Levenshtein==0.20.9\n",
            "  Downloading Levenshtein-0.20.9-cp39-cp39-manylinux_2_17_x86_64.manylinux2014_x86_64.whl (175 kB)\n",
            "\u001b[2K     \u001b[90m━━━━━━━━━━━━━━━━━━━━━━━━━━━━━━━━━━━━━━━\u001b[0m \u001b[32m175.5/175.5 KB\u001b[0m \u001b[31m6.9 MB/s\u001b[0m eta \u001b[36m0:00:00\u001b[0m\n",
            "\u001b[?25hCollecting rapidfuzz<3.0.0,>=2.3.0\n",
            "  Downloading rapidfuzz-2.13.7-cp39-cp39-manylinux_2_17_x86_64.manylinux2014_x86_64.whl (2.2 MB)\n",
            "\u001b[2K     \u001b[90m━━━━━━━━━━━━━━━━━━━━━━━━━━━━━━━━━━━━━━━━\u001b[0m \u001b[32m2.2/2.2 MB\u001b[0m \u001b[31m35.5 MB/s\u001b[0m eta \u001b[36m0:00:00\u001b[0m\n",
            "\u001b[?25hInstalling collected packages: rapidfuzz, Levenshtein, python-levenshtein\n",
            "Successfully installed Levenshtein-0.20.9 python-levenshtein-0.20.9 rapidfuzz-2.13.7\n"
          ]
        }
      ]
    },
    {
      "cell_type": "code",
      "source": [
        "#2. Levenshtein Distance\n",
        "from Levenshtein import distance\n",
        "\n",
        "print(\"Seq X  : \", seqX)\n",
        "print(\"Seq Y  : \", seqY)\n",
        "# print(distance(\"PARTY\", \"PARK\")) #ouput = 2\n",
        "print(distance(seqX, seqY)) #output = 5"
      ],
      "metadata": {
        "colab": {
          "base_uri": "https://localhost:8080/"
        },
        "id": "kI-nh7SL0Dul",
        "outputId": "6bc1b619-8117-4a15-e84f-b94314f249ec"
      },
      "execution_count": null,
      "outputs": [
        {
          "output_type": "stream",
          "name": "stdout",
          "text": [
            "Seq X  :  CAGTCATACCT\n",
            "Seq Y  :  CAGATAAGCTG\n",
            "5\n"
          ]
        }
      ]
    },
    {
      "cell_type": "code",
      "source": [
        "#3. Dots plot\n",
        "\n",
        "#TODO : install all required modules\n",
        "# 1. numpy for matrix calculation\n",
        "# 2. matplotlib for visualization\n",
        "\n",
        "!pip install numpy\n",
        "!pip install matplotlib"
      ],
      "metadata": {
        "colab": {
          "base_uri": "https://localhost:8080/"
        },
        "id": "c_5-LhT61-EX",
        "outputId": "e7a560a0-46e3-478b-c54f-4b4496b92269"
      },
      "execution_count": null,
      "outputs": [
        {
          "output_type": "stream",
          "name": "stdout",
          "text": [
            "Looking in indexes: https://pypi.org/simple, https://us-python.pkg.dev/colab-wheels/public/simple/\n",
            "Requirement already satisfied: numpy in /usr/local/lib/python3.9/dist-packages (1.22.4)\n",
            "Looking in indexes: https://pypi.org/simple, https://us-python.pkg.dev/colab-wheels/public/simple/\n",
            "Requirement already satisfied: matplotlib in /usr/local/lib/python3.9/dist-packages (3.7.1)\n",
            "Requirement already satisfied: kiwisolver>=1.0.1 in /usr/local/lib/python3.9/dist-packages (from matplotlib) (1.4.4)\n",
            "Requirement already satisfied: pillow>=6.2.0 in /usr/local/lib/python3.9/dist-packages (from matplotlib) (8.4.0)\n",
            "Requirement already satisfied: numpy>=1.20 in /usr/local/lib/python3.9/dist-packages (from matplotlib) (1.22.4)\n",
            "Requirement already satisfied: cycler>=0.10 in /usr/local/lib/python3.9/dist-packages (from matplotlib) (0.11.0)\n",
            "Requirement already satisfied: packaging>=20.0 in /usr/local/lib/python3.9/dist-packages (from matplotlib) (23.0)\n",
            "Requirement already satisfied: fonttools>=4.22.0 in /usr/local/lib/python3.9/dist-packages (from matplotlib) (4.39.2)\n",
            "Requirement already satisfied: contourpy>=1.0.1 in /usr/local/lib/python3.9/dist-packages (from matplotlib) (1.0.7)\n",
            "Requirement already satisfied: importlib-resources>=3.2.0 in /usr/local/lib/python3.9/dist-packages (from matplotlib) (5.12.0)\n",
            "Requirement already satisfied: python-dateutil>=2.7 in /usr/local/lib/python3.9/dist-packages (from matplotlib) (2.8.2)\n",
            "Requirement already satisfied: pyparsing>=2.3.1 in /usr/local/lib/python3.9/dist-packages (from matplotlib) (3.0.9)\n",
            "Requirement already satisfied: zipp>=3.1.0 in /usr/local/lib/python3.9/dist-packages (from importlib-resources>=3.2.0->matplotlib) (3.15.0)\n",
            "Requirement already satisfied: six>=1.5 in /usr/local/lib/python3.9/dist-packages (from python-dateutil>=2.7->matplotlib) (1.16.0)\n"
          ]
        }
      ]
    },
    {
      "cell_type": "code",
      "source": [
        "#Function\n",
        "def check(x, y):\n",
        "   # if x == y:\n",
        "  #   return 0\n",
        "  # else:\n",
        "  #   return 1\n",
        "  return 0 if x == y else 1\n",
        "\n",
        "\n",
        "def makeMatrix(seq1, seq2):\n",
        "   len_1 = len(seq1)\n",
        "   len_2 = len(seq2)\n",
        "   return [\n",
        "       [check(seq1[i], seq1[j]) for j in range(len_2)]\n",
        "    for i in range(len_1)]\n",
        "\n",
        "\n",
        "  # for i in range(len_1):\n",
        "  #   for j in range(len_2):\n",
        "  #     do something\n"
      ],
      "metadata": {
        "id": "2IIqsFCs2omo"
      },
      "execution_count": null,
      "outputs": []
    },
    {
      "cell_type": "code",
      "source": [
        "#GUI\n",
        "import matplotlib.pyplot as plt\n",
        "import numpy\n",
        "res = makeMatrix(seqX, seqY)\n",
        "dotplot = plt.imshow(numpy.array(res))\n",
        "x_axis = plt.xticks(numpy.arange(len(seqY)), list(seqY))\n",
        "y_axis = plt.yticks(numpy.arange(len(seqX)), list(seqX))\n",
        "plt.show()"
      ],
      "metadata": {
        "colab": {
          "base_uri": "https://localhost:8080/",
          "height": 430
        },
        "id": "fYEGXvDZ6Ch_",
        "outputId": "84b8ad19-fa57-4fbb-a194-1ae10d34c4c8"
      },
      "execution_count": null,
      "outputs": [
        {
          "output_type": "display_data",
          "data": {
            "text/plain": [
              "<Figure size 640x480 with 1 Axes>"
            ],
            "image/png": "[encoded data removed]"
          },
          "metadata": {}
        }
      ]
    }
  ]
}